{
  "nbformat": 4,
  "nbformat_minor": 0,
  "metadata": {
    "colab": {
      "provenance": []
    },
    "kernelspec": {
      "name": "python3",
      "display_name": "Python 3"
    },
    "language_info": {
      "name": "python"
    }
  },
  "cells": [
    {
      "cell_type": "markdown",
      "source": [
        "# **Getting The Data**"
      ],
      "metadata": {
        "id": "YtcMaxcuioyU"
      }
    },
    {
      "cell_type": "code",
      "source": [
        "from google.colab import files\n",
        "files.upload()"
      ],
      "metadata": {
        "colab": {
          "base_uri": "https://localhost:8080/",
          "height": 92
        },
        "id": "Zg16eyqHwuws",
        "outputId": "42fc385e-0a7c-4813-81a3-24ff09856b5e",
        "collapsed": true
      },
      "execution_count": null,
      "outputs": [
        {
          "output_type": "display_data",
          "data": {
            "text/plain": [
              "<IPython.core.display.HTML object>"
            ],
            "text/html": [
              "\n",
              "     <input type=\"file\" id=\"files-11ff7e1a-88bf-4ed6-9c93-a75e5c892b0c\" name=\"files[]\" multiple disabled\n",
              "        style=\"border:none\" />\n",
              "     <output id=\"result-11ff7e1a-88bf-4ed6-9c93-a75e5c892b0c\">\n",
              "      Upload widget is only available when the cell has been executed in the\n",
              "      current browser session. Please rerun this cell to enable.\n",
              "      </output>\n",
              "      <script>// Copyright 2017 Google LLC\n",
              "//\n",
              "// Licensed under the Apache License, Version 2.0 (the \"License\");\n",
              "// you may not use this file except in compliance with the License.\n",
              "// You may obtain a copy of the License at\n",
              "//\n",
              "//      http://www.apache.org/licenses/LICENSE-2.0\n",
              "//\n",
              "// Unless required by applicable law or agreed to in writing, software\n",
              "// distributed under the License is distributed on an \"AS IS\" BASIS,\n",
              "// WITHOUT WARRANTIES OR CONDITIONS OF ANY KIND, either express or implied.\n",
              "// See the License for the specific language governing permissions and\n",
              "// limitations under the License.\n",
              "\n",
              "/**\n",
              " * @fileoverview Helpers for google.colab Python module.\n",
              " */\n",
              "(function(scope) {\n",
              "function span(text, styleAttributes = {}) {\n",
              "  const element = document.createElement('span');\n",
              "  element.textContent = text;\n",
              "  for (const key of Object.keys(styleAttributes)) {\n",
              "    element.style[key] = styleAttributes[key];\n",
              "  }\n",
              "  return element;\n",
              "}\n",
              "\n",
              "// Max number of bytes which will be uploaded at a time.\n",
              "const MAX_PAYLOAD_SIZE = 100 * 1024;\n",
              "\n",
              "function _uploadFiles(inputId, outputId) {\n",
              "  const steps = uploadFilesStep(inputId, outputId);\n",
              "  const outputElement = document.getElementById(outputId);\n",
              "  // Cache steps on the outputElement to make it available for the next call\n",
              "  // to uploadFilesContinue from Python.\n",
              "  outputElement.steps = steps;\n",
              "\n",
              "  return _uploadFilesContinue(outputId);\n",
              "}\n",
              "\n",
              "// This is roughly an async generator (not supported in the browser yet),\n",
              "// where there are multiple asynchronous steps and the Python side is going\n",
              "// to poll for completion of each step.\n",
              "// This uses a Promise to block the python side on completion of each step,\n",
              "// then passes the result of the previous step as the input to the next step.\n",
              "function _uploadFilesContinue(outputId) {\n",
              "  const outputElement = document.getElementById(outputId);\n",
              "  const steps = outputElement.steps;\n",
              "\n",
              "  const next = steps.next(outputElement.lastPromiseValue);\n",
              "  return Promise.resolve(next.value.promise).then((value) => {\n",
              "    // Cache the last promise value to make it available to the next\n",
              "    // step of the generator.\n",
              "    outputElement.lastPromiseValue = value;\n",
              "    return next.value.response;\n",
              "  });\n",
              "}\n",
              "\n",
              "/**\n",
              " * Generator function which is called between each async step of the upload\n",
              " * process.\n",
              " * @param {string} inputId Element ID of the input file picker element.\n",
              " * @param {string} outputId Element ID of the output display.\n",
              " * @return {!Iterable<!Object>} Iterable of next steps.\n",
              " */\n",
              "function* uploadFilesStep(inputId, outputId) {\n",
              "  const inputElement = document.getElementById(inputId);\n",
              "  inputElement.disabled = false;\n",
              "\n",
              "  const outputElement = document.getElementById(outputId);\n",
              "  outputElement.innerHTML = '';\n",
              "\n",
              "  const pickedPromise = new Promise((resolve) => {\n",
              "    inputElement.addEventListener('change', (e) => {\n",
              "      resolve(e.target.files);\n",
              "    });\n",
              "  });\n",
              "\n",
              "  const cancel = document.createElement('button');\n",
              "  inputElement.parentElement.appendChild(cancel);\n",
              "  cancel.textContent = 'Cancel upload';\n",
              "  const cancelPromise = new Promise((resolve) => {\n",
              "    cancel.onclick = () => {\n",
              "      resolve(null);\n",
              "    };\n",
              "  });\n",
              "\n",
              "  // Wait for the user to pick the files.\n",
              "  const files = yield {\n",
              "    promise: Promise.race([pickedPromise, cancelPromise]),\n",
              "    response: {\n",
              "      action: 'starting',\n",
              "    }\n",
              "  };\n",
              "\n",
              "  cancel.remove();\n",
              "\n",
              "  // Disable the input element since further picks are not allowed.\n",
              "  inputElement.disabled = true;\n",
              "\n",
              "  if (!files) {\n",
              "    return {\n",
              "      response: {\n",
              "        action: 'complete',\n",
              "      }\n",
              "    };\n",
              "  }\n",
              "\n",
              "  for (const file of files) {\n",
              "    const li = document.createElement('li');\n",
              "    li.append(span(file.name, {fontWeight: 'bold'}));\n",
              "    li.append(span(\n",
              "        `(${file.type || 'n/a'}) - ${file.size} bytes, ` +\n",
              "        `last modified: ${\n",
              "            file.lastModifiedDate ? file.lastModifiedDate.toLocaleDateString() :\n",
              "                                    'n/a'} - `));\n",
              "    const percent = span('0% done');\n",
              "    li.appendChild(percent);\n",
              "\n",
              "    outputElement.appendChild(li);\n",
              "\n",
              "    const fileDataPromise = new Promise((resolve) => {\n",
              "      const reader = new FileReader();\n",
              "      reader.onload = (e) => {\n",
              "        resolve(e.target.result);\n",
              "      };\n",
              "      reader.readAsArrayBuffer(file);\n",
              "    });\n",
              "    // Wait for the data to be ready.\n",
              "    let fileData = yield {\n",
              "      promise: fileDataPromise,\n",
              "      response: {\n",
              "        action: 'continue',\n",
              "      }\n",
              "    };\n",
              "\n",
              "    // Use a chunked sending to avoid message size limits. See b/62115660.\n",
              "    let position = 0;\n",
              "    do {\n",
              "      const length = Math.min(fileData.byteLength - position, MAX_PAYLOAD_SIZE);\n",
              "      const chunk = new Uint8Array(fileData, position, length);\n",
              "      position += length;\n",
              "\n",
              "      const base64 = btoa(String.fromCharCode.apply(null, chunk));\n",
              "      yield {\n",
              "        response: {\n",
              "          action: 'append',\n",
              "          file: file.name,\n",
              "          data: base64,\n",
              "        },\n",
              "      };\n",
              "\n",
              "      let percentDone = fileData.byteLength === 0 ?\n",
              "          100 :\n",
              "          Math.round((position / fileData.byteLength) * 100);\n",
              "      percent.textContent = `${percentDone}% done`;\n",
              "\n",
              "    } while (position < fileData.byteLength);\n",
              "  }\n",
              "\n",
              "  // All done.\n",
              "  yield {\n",
              "    response: {\n",
              "      action: 'complete',\n",
              "    }\n",
              "  };\n",
              "}\n",
              "\n",
              "scope.google = scope.google || {};\n",
              "scope.google.colab = scope.google.colab || {};\n",
              "scope.google.colab._files = {\n",
              "  _uploadFiles,\n",
              "  _uploadFilesContinue,\n",
              "};\n",
              "})(self);\n",
              "</script> "
            ]
          },
          "metadata": {}
        },
        {
          "output_type": "stream",
          "name": "stdout",
          "text": [
            "Saving kaggle.json to kaggle.json\n"
          ]
        },
        {
          "output_type": "execute_result",
          "data": {
            "text/plain": [
              "{'kaggle.json': b'{\"username\":\"yasnatalebi\",\"key\":\"b34a861570f8248b7154c1502d057620\"}'}"
            ]
          },
          "metadata": {},
          "execution_count": 1
        }
      ]
    },
    {
      "cell_type": "code",
      "source": [
        "import os\n",
        "!mkdir -p ~/.kaggle\n",
        "!cp kaggle.json ~/.kaggle/\n",
        "!chmod 600 ~/.kaggle/kaggle.json"
      ],
      "metadata": {
        "id": "gygo-455wvpU"
      },
      "execution_count": null,
      "outputs": []
    },
    {
      "cell_type": "code",
      "source": [
        "!kaggle competitions download -c rossmann-store-sales\n",
        "\n",
        "!unzip -o rossmann-store-sales.zip"
      ],
      "metadata": {
        "colab": {
          "base_uri": "https://localhost:8080/"
        },
        "id": "PYIWRb7owvmQ",
        "outputId": "1ca5fab9-830f-4aa3-8646-4d4cbeeaec7a",
        "collapsed": true
      },
      "execution_count": null,
      "outputs": [
        {
          "output_type": "stream",
          "name": "stdout",
          "text": [
            "Downloading rossmann-store-sales.zip to /content\n",
            "\r  0% 0.00/6.99M [00:00<?, ?B/s]\n",
            "\r100% 6.99M/6.99M [00:00<00:00, 480MB/s]\n",
            "Archive:  rossmann-store-sales.zip\n",
            "  inflating: sample_submission.csv   \n",
            "  inflating: store.csv               \n",
            "  inflating: test.csv                \n",
            "  inflating: train.csv               \n"
          ]
        }
      ]
    },
    {
      "cell_type": "code",
      "source": [
        "import pandas as pd\n",
        "from sqlalchemy import create_engine\n",
        "from datetime import datetime\n",
        "\n",
        "# ---------- Load raw CSV files ----------\n",
        "sales_df = pd.read_csv('train.csv')\n",
        "store_df = pd.read_csv('store.csv')\n",
        "\n",
        "# ---------- Merge store info into sales ----------\n",
        "merged_df = sales_df.merge(store_df, on='Store', how='left')\n",
        "\n",
        "# ---------- Create dim_store ----------\n",
        "dim_store = store_df.copy()\n",
        "dim_store.rename(columns={\n",
        "    'Store': 'store_id',\n",
        "    'StoreType': 'store_type',\n",
        "    'Assortment': 'assortment_type',\n",
        "    'CompetitionDistance': 'competition_distance',\n",
        "    'CompetitionOpenSinceMonth': 'competition_open_month',\n",
        "    'CompetitionOpenSinceYear': 'competition_open_year',\n",
        "    'Promo2': 'promo2',\n",
        "    'Promo2SinceWeek': 'promo2_since_week',\n",
        "    'Promo2SinceYear': 'promo2_since_year',\n",
        "    'PromoInterval': 'promo_interval'\n",
        "}, inplace=True)\n",
        "\n",
        "# ---------- Create dim_date ----------\n",
        "# Convert to datetime\n",
        "merged_df['Date'] = pd.to_datetime(merged_df['Date'])\n",
        "\n",
        "# Build date dimension\n",
        "date_range = pd.date_range(start=merged_df['Date'].min(), end=merged_df['Date'].max())\n",
        "dim_date = pd.DataFrame({\n",
        "    'date_id': date_range,\n",
        "    'day': date_range.day,\n",
        "    'month': date_range.month,\n",
        "    'year': date_range.year,\n",
        "    'weekday': date_range.weekday,\n",
        "    'is_weekend': date_range.weekday >= 5\n",
        "})\n",
        "\n",
        "# ---------- Create fact_sales ----------\n",
        "fact_sales = merged_df[['Store', 'Date', 'Sales', 'Customers', 'Promo', 'Open', 'SchoolHoliday', 'StateHoliday']].copy()\n",
        "fact_sales.rename(columns={\n",
        "    'Store': 'store_id',\n",
        "    'Date': 'date_id',\n",
        "    'Sales': 'sales',\n",
        "    'Customers': 'customers',\n",
        "    'Promo': 'promo',\n",
        "    'Open': 'open',\n",
        "    'SchoolHoliday': 'school_holiday',\n",
        "    'StateHoliday': 'state_holiday'\n",
        "}, inplace=True)"
      ],
      "metadata": {
        "colab": {
          "base_uri": "https://localhost:8080/"
        },
        "id": "_CSF_O7tvz1b",
        "outputId": "7038c2f5-42fe-4236-92b5-8037a0bc62a3",
        "collapsed": true
      },
      "execution_count": null,
      "outputs": [
        {
          "output_type": "stream",
          "name": "stderr",
          "text": [
            "/tmp/ipython-input-579147009.py:6: DtypeWarning: Columns (7) have mixed types. Specify dtype option on import or set low_memory=False.\n",
            "  sales_df = pd.read_csv('train.csv')\n"
          ]
        }
      ]
    },
    {
      "cell_type": "code",
      "source": [
        "# ---------- Data Quality Checks ----------\n",
        "print(\"\\n🔍 Running Data Quality Checks...\")\n",
        "\n",
        "# Nulls in fact_sales\n",
        "print(\"\\n🧪 Nulls in fact_sales:\")\n",
        "print(fact_sales.isnull().sum())\n",
        "\n",
        "# Negative or zero sales\n",
        "neg_sales = fact_sales[fact_sales['sales'] <= 0].shape[0]\n",
        "print(f\"\\n📉 Records with sales <= 0: {neg_sales}\")\n",
        "\n",
        "# Negative customers\n",
        "neg_customers = fact_sales[fact_sales['customers'] < 0].shape[0]\n",
        "print(f\"\\n👥 Records with negative customers: {neg_customers}\")\n",
        "\n",
        "# Invalid dates\n",
        "invalid_dates = fact_sales[\n",
        "    (fact_sales['date_id'] > '2025-01-01') |\n",
        "    (fact_sales['date_id'] < '2010-01-01')\n",
        "].shape[0]\n",
        "print(f\"\\n📅 Records with out-of-range dates: {invalid_dates}\")"
      ],
      "metadata": {
        "colab": {
          "base_uri": "https://localhost:8080/"
        },
        "id": "HU-drAh42vhp",
        "outputId": "ec019f27-7aa1-4c06-df43-7713bdd13801"
      },
      "execution_count": null,
      "outputs": [
        {
          "output_type": "stream",
          "name": "stdout",
          "text": [
            "\n",
            "🔍 Running Data Quality Checks...\n",
            "\n",
            "🧪 Nulls in fact_sales:\n",
            "store_id          0\n",
            "date_id           0\n",
            "sales             0\n",
            "customers         0\n",
            "promo             0\n",
            "open              0\n",
            "school_holiday    0\n",
            "state_holiday     0\n",
            "dtype: int64\n",
            "\n",
            "📉 Records with sales <= 0: 172871\n",
            "\n",
            "👥 Records with negative customers: 0\n",
            "\n",
            "📅 Records with out-of-range dates: 0\n"
          ]
        }
      ]
    },
    {
      "cell_type": "code",
      "source": [
        "# Nulls in dim_store\n",
        "print(\"\\n🏬 Nulls in dim_store:\")\n",
        "print(dim_store.isnull().sum())\n",
        "\n",
        "# Negative competition distance\n",
        "neg_dist = dim_store[dim_store['competition_distance'] < 0].shape[0]\n",
        "print(f\"\\n📏 Records with negative competition distance: {neg_dist}\")"
      ],
      "metadata": {
        "colab": {
          "base_uri": "https://localhost:8080/"
        },
        "id": "DheTeNlo3vLt",
        "outputId": "9731d3cb-d551-4a97-bbca-3180aadb2220"
      },
      "execution_count": null,
      "outputs": [
        {
          "output_type": "stream",
          "name": "stdout",
          "text": [
            "\n",
            "🏬 Nulls in dim_store:\n",
            "store_id                    0\n",
            "store_type                  0\n",
            "assortment_type             0\n",
            "competition_distance        3\n",
            "competition_open_month    354\n",
            "competition_open_year     354\n",
            "promo2                      0\n",
            "promo2_since_week         544\n",
            "promo2_since_year         544\n",
            "promo_interval            544\n",
            "dtype: int64\n",
            "\n",
            "📏 Records with negative competition distance: 0\n"
          ]
        }
      ]
    },
    {
      "cell_type": "code",
      "source": [
        "import numpy as np\n",
        "\n",
        "# Handling Missing Values\n",
        "dim_store.loc[\n",
        "    dim_store['competition_distance'].isnull(),\n",
        "    ['competition_distance', 'competition_open_month', 'competition_open_year']\n",
        "] = 0\n",
        "\n",
        "median_month = dim_store['competition_open_month'].median()\n",
        "median_year = dim_store['competition_open_year'].median()\n",
        "\n",
        "dim_store.loc[\n",
        "    (dim_store['competition_distance'] != 0) &\n",
        "    (dim_store['competition_open_month'].isnull()),\n",
        "    'competition_open_month'\n",
        "] = median_month\n",
        "\n",
        "dim_store.loc[\n",
        "    (dim_store['competition_distance'] != 0) &\n",
        "    (dim_store['competition_open_year'].isnull()),\n",
        "    'competition_open_year'\n",
        "] = median_year\n"
      ],
      "metadata": {
        "id": "SipDmAwxO2Bh"
      },
      "execution_count": null,
      "outputs": []
    },
    {
      "cell_type": "code",
      "source": [
        "dim_store.fillna(0, inplace=True)\n",
        "dim_store.isnull().sum()"
      ],
      "metadata": {
        "colab": {
          "base_uri": "https://localhost:8080/",
          "height": 397
        },
        "id": "5etb7g9_RErY",
        "outputId": "64a3818b-13c5-4d7c-e59a-15153174b198"
      },
      "execution_count": null,
      "outputs": [
        {
          "output_type": "execute_result",
          "data": {
            "text/plain": [
              "store_id                  0\n",
              "store_type                0\n",
              "assortment_type           0\n",
              "competition_distance      0\n",
              "competition_open_month    0\n",
              "competition_open_year     0\n",
              "promo2                    0\n",
              "promo2_since_week         0\n",
              "promo2_since_year         0\n",
              "promo_interval            0\n",
              "dtype: int64"
            ],
            "text/html": [
              "<div>\n",
              "<style scoped>\n",
              "    .dataframe tbody tr th:only-of-type {\n",
              "        vertical-align: middle;\n",
              "    }\n",
              "\n",
              "    .dataframe tbody tr th {\n",
              "        vertical-align: top;\n",
              "    }\n",
              "\n",
              "    .dataframe thead th {\n",
              "        text-align: right;\n",
              "    }\n",
              "</style>\n",
              "<table border=\"1\" class=\"dataframe\">\n",
              "  <thead>\n",
              "    <tr style=\"text-align: right;\">\n",
              "      <th></th>\n",
              "      <th>0</th>\n",
              "    </tr>\n",
              "  </thead>\n",
              "  <tbody>\n",
              "    <tr>\n",
              "      <th>store_id</th>\n",
              "      <td>0</td>\n",
              "    </tr>\n",
              "    <tr>\n",
              "      <th>store_type</th>\n",
              "      <td>0</td>\n",
              "    </tr>\n",
              "    <tr>\n",
              "      <th>assortment_type</th>\n",
              "      <td>0</td>\n",
              "    </tr>\n",
              "    <tr>\n",
              "      <th>competition_distance</th>\n",
              "      <td>0</td>\n",
              "    </tr>\n",
              "    <tr>\n",
              "      <th>competition_open_month</th>\n",
              "      <td>0</td>\n",
              "    </tr>\n",
              "    <tr>\n",
              "      <th>competition_open_year</th>\n",
              "      <td>0</td>\n",
              "    </tr>\n",
              "    <tr>\n",
              "      <th>promo2</th>\n",
              "      <td>0</td>\n",
              "    </tr>\n",
              "    <tr>\n",
              "      <th>promo2_since_week</th>\n",
              "      <td>0</td>\n",
              "    </tr>\n",
              "    <tr>\n",
              "      <th>promo2_since_year</th>\n",
              "      <td>0</td>\n",
              "    </tr>\n",
              "    <tr>\n",
              "      <th>promo_interval</th>\n",
              "      <td>0</td>\n",
              "    </tr>\n",
              "  </tbody>\n",
              "</table>\n",
              "</div><br><label><b>dtype:</b> int64</label>"
            ]
          },
          "metadata": {},
          "execution_count": 16
        }
      ]
    },
    {
      "cell_type": "code",
      "source": [
        "# Duplicates in dim_date\n",
        "dup_dates = dim_date.duplicated(subset=['date_id']).sum()\n",
        "print(f\"\\n🔁 Duplicate records in dim_date: {dup_dates}\")\n",
        "\n",
        "print(\"\\n✅ Data quality checks complete.\")"
      ],
      "metadata": {
        "colab": {
          "base_uri": "https://localhost:8080/"
        },
        "id": "9OSGGvjs4tgs",
        "outputId": "7505a809-578c-4bde-8589-f8a5934fbd39"
      },
      "execution_count": null,
      "outputs": [
        {
          "output_type": "stream",
          "name": "stdout",
          "text": [
            "\n",
            "🔁 Duplicate records in dim_date: 0\n",
            "\n",
            "✅ Data quality checks complete.\n"
          ]
        }
      ]
    },
    {
      "cell_type": "code",
      "source": [
        "# ---------- Connect to DB ----------\n",
        "engine = create_engine('sqlite:///rossmann_dw.db')\n",
        "\n",
        "# ---------- Load dimension tables ----------\n",
        "dim_store.to_sql('dim_store', engine, if_exists='replace', index=False)\n",
        "dim_date.to_sql('dim_date', engine, if_exists='replace', index=False)\n",
        "\n",
        "# ---------- Load fact table ----------\n",
        "fact_sales.to_sql('fact_sales', engine, if_exists='replace', index=False)\n",
        "\n",
        "print(\"✅ ETL completed. All tables loaded to data warehouse.\")"
      ],
      "metadata": {
        "id": "oUJpI2cASHT_",
        "colab": {
          "base_uri": "https://localhost:8080/"
        },
        "outputId": "58a1c460-aa4d-4eed-dba4-49db26f6037a"
      },
      "execution_count": null,
      "outputs": [
        {
          "output_type": "stream",
          "name": "stdout",
          "text": [
            "✅ ETL completed. All tables loaded to data warehouse.\n"
          ]
        }
      ]
    },
    {
      "cell_type": "code",
      "source": [
        "!cp /content/rossmann_dw.db /content/drive/MyDrive/"
      ],
      "metadata": {
        "id": "QWhA6T6--0cG"
      },
      "execution_count": null,
      "outputs": []
    },
    {
      "cell_type": "code",
      "source": [],
      "metadata": {
        "id": "QVpJL-t--3va"
      },
      "execution_count": null,
      "outputs": []
    }
  ]
}