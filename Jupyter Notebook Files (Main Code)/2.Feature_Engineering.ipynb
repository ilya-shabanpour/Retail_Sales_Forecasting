{
  "nbformat": 4,
  "nbformat_minor": 0,
  "metadata": {
    "colab": {
      "provenance": []
    },
    "kernelspec": {
      "name": "python3",
      "display_name": "Python 3"
    },
    "language_info": {
      "name": "python"
    }
  },
  "cells": [
    {
      "cell_type": "markdown",
      "source": [
        "# **Feature Engineerig**"
      ],
      "metadata": {
        "id": "ZmWWqEcyUrgl"
      }
    },
    {
      "cell_type": "code",
      "source": [
        "!cp /content/drive/MyDrive/rossmann_dw.db /content/"
      ],
      "metadata": {
        "id": "R05J2cpb_xQo"
      },
      "execution_count": null,
      "outputs": []
    },
    {
      "cell_type": "code",
      "execution_count": null,
      "metadata": {
        "id": "P4MFzOPq-M12"
      },
      "outputs": [],
      "source": [
        "import pandas as pd\n",
        "from sqlalchemy import create_engine\n",
        "\n",
        "# اتصال به دیتابیس\n",
        "engine = create_engine('sqlite:///rossmann_dw.db')\n",
        "\n",
        "# خواندن جدول‌ها\n",
        "fact_sales = pd.read_sql('SELECT * FROM fact_sales', engine)\n",
        "dim_store = pd.read_sql('SELECT * FROM dim_store', engine)\n",
        "dim_date = pd.read_sql('SELECT * FROM dim_date', engine)\n",
        "\n",
        "df = fact_sales.merge(dim_store, on='store_id', how='left')\n",
        "df = df.merge(dim_date, on='date_id', how='left')"
      ]
    },
    {
      "cell_type": "code",
      "source": [
        "df.columns"
      ],
      "metadata": {
        "colab": {
          "base_uri": "https://localhost:8080/"
        },
        "id": "U01W8g7PAkle",
        "outputId": "179bfea6-54c8-404d-8963-52822c1d20f4"
      },
      "execution_count": null,
      "outputs": [
        {
          "output_type": "execute_result",
          "data": {
            "text/plain": [
              "Index(['store_id', 'date_id', 'sales', 'customers', 'promo', 'open',\n",
              "       'school_holiday', 'state_holiday', 'store_type', 'assortment_type',\n",
              "       'competition_distance', 'competition_open_month',\n",
              "       'competition_open_year', 'promo2', 'promo2_since_week',\n",
              "       'promo2_since_year', 'promo_interval', 'day', 'month', 'year',\n",
              "       'weekday', 'is_weekend'],\n",
              "      dtype='object')"
            ]
          },
          "metadata": {},
          "execution_count": 5
        }
      ]
    },
    {
      "cell_type": "code",
      "source": [
        "import pandas as pd\n",
        "import numpy as np\n",
        "\n",
        "def safe_promo2_since(row):\n",
        "    year = int(row['promo2_since_year'])\n",
        "    week = int(row['promo2_since_week'])\n",
        "\n",
        "    # Skip zero or invalid years/weeks\n",
        "    if year < 1900 or week < 1 or week > 53:\n",
        "        return pd.NaT\n",
        "\n",
        "    try:\n",
        "        return pd.to_datetime(f'{year}-W{week:02d}-1', format='%G-W%V-%u')\n",
        "    except:\n",
        "        return pd.NaT\n",
        "\n",
        "\n",
        "def safe_competition_open(row):\n",
        "    year = int(row['competition_open_year'])\n",
        "    month = int(row['competition_open_month'])\n",
        "\n",
        "    if year < 1900 or month < 1 or month > 12:\n",
        "        return pd.NaT\n",
        "\n",
        "    try:\n",
        "        return pd.Timestamp(year=year, month=month, day=1)\n",
        "    except:\n",
        "        return pd.NaT\n",
        "\n",
        "\n",
        "def feature_engineering(df, model):\n",
        "    df = df.copy()\n",
        "    df['date_id'] = pd.to_datetime(df['date_id'])\n",
        "\n",
        "    # Basic date-based features\n",
        "    df['day'] = df['date_id'].dt.day\n",
        "    df['month'] = df['date_id'].dt.month\n",
        "    df['year'] = df['date_id'].dt.year\n",
        "    df['weekday'] = df['date_id'].dt.weekday\n",
        "    df['is_weekend'] = df['weekday'] >= 5\n",
        "    df['weekofyear'] = df['date_id'].dt.isocalendar().week.astype(int)\n",
        "    df['quarter'] = df['date_id'].dt.quarter\n",
        "    df['is_month_start'] = df['date_id'].dt.is_month_start.astype(int)\n",
        "    df['is_month_end'] = df['date_id'].dt.is_month_end.astype(int)\n",
        "\n",
        "    # Promo interval feature\n",
        "    month_str = ['Jan', 'Feb', 'Mar', 'Apr', 'May', 'Jun',\n",
        "                 'Jul', 'Aug', 'Sept', 'Oct', 'Nov', 'Dec']\n",
        "    df['promo_interval'] = df['promo_interval'].fillna('')\n",
        "    df['promo2_month'] = df['date_id'].dt.month.map(lambda x: month_str[x - 1])\n",
        "    df['is_promo2_month'] = df.apply(lambda row: 1 if row['promo2_month'] in row['promo_interval'].split(',') else 0, axis=1)\n",
        "\n",
        "    df['competition_open_since'] = df.apply(safe_competition_open, axis=1)\n",
        "\n",
        "    df['competition_duration_months'] = (\n",
        "    (df['date_id'] - df['competition_open_since']).dt.days / 30).clip(lower=0).fillna(0)\n",
        "\n",
        "    # Promo2 duration in weeks\n",
        "    df['promo2_since'] = df.apply(safe_promo2_since, axis=1)\n",
        "\n",
        "    df['promo2_duration_weeks'] = (\n",
        "        (df['date_id'] - df['promo2_since']).dt.days / 7).clip(lower=0).fillna(0)\n",
        "\n",
        "    # --- Aggregated shop-level features ---\n",
        "    shop_agg = df.groupby('store_id').agg(\n",
        "        shopavg_open=('open', 'mean'),\n",
        "        shopavg_salespercustomer=('sales', lambda x: x.sum() / df.loc[x.index, 'customers'].sum() if df.loc[x.index, 'customers'].sum() != 0 else 0),\n",
        "        shopavg_schoolholiday=('school_holiday', 'mean')\n",
        "    ).reset_index()\n",
        "\n",
        "    shop_holiday_sales = df[df['state_holiday'] != 0].groupby('store_id')['sales'].mean().reset_index().rename(columns={'sales': 'shopsales_holiday'})\n",
        "    shop_promo_sales = df[df['promo'] == 1].groupby('store_id')['sales'].mean().reset_index().rename(columns={'sales': 'shopsales_promo'})\n",
        "\n",
        "    # Average sales during school holidays per store\n",
        "    school_holiday_sales = df[df['school_holiday'] == 1].groupby('store_id')['sales'].mean().reset_index()\n",
        "    school_holiday_sales.rename(columns={'sales': 'shopsales_schoolholiday'}, inplace=True)\n",
        "\n",
        "\n",
        "    # Merge all shop aggregates into one dataframe\n",
        "    shop_agg = shop_agg.merge(shop_holiday_sales, on='store_id', how='left')\n",
        "    shop_agg = shop_agg.merge(shop_promo_sales, on='store_id', how='left')\n",
        "    shop_agg = shop_agg.merge(school_holiday_sales, on='store_id', how='left')\n",
        "    shop_agg.fillna(0, inplace=True)\n",
        "\n",
        "\n",
        "    # Fill NaNs\n",
        "    shop_agg.fillna(0, inplace=True)\n",
        "\n",
        "    # Merge back to main dataframe\n",
        "    df = df.merge(shop_agg, on='store_id', how='left')\n",
        "\n",
        "    if model == 'tree':\n",
        "      cat_cols = ['state_holiday', 'store_type', 'assortment_type', 'store_id']\n",
        "      for col in cat_cols:\n",
        "          df[col] = df[col].astype('category').cat.codes\n",
        "    else:\n",
        "      cat_cols = ['state_holiday', 'store_type', 'assortment_type']\n",
        "      df = pd.get_dummies(df, columns=cat_cols, prefix=cat_cols, dtype=int, drop_first=True)\n",
        "\n",
        "    # Drop temporary columns\n",
        "    df.drop(columns=['promo2_month', 'promo2_since', 'competition_open_since', 'customers', 'promo_interval'], inplace=True)\n",
        "\n",
        "    return df\n"
      ],
      "metadata": {
        "id": "SgCUsqi7AuIW"
      },
      "execution_count": null,
      "outputs": []
    },
    {
      "cell_type": "code",
      "source": [
        "final_df = feature_engineering(df, 'tree')\n",
        "final_df.to_csv(\"engineered_features_tree.csv\", index=False)"
      ],
      "metadata": {
        "id": "4VPnq3sFIQMc"
      },
      "execution_count": null,
      "outputs": []
    },
    {
      "cell_type": "code",
      "source": [
        "final_df = feature_engineering(df, 'deep')\n",
        "final_df.to_csv(\"engineered_features_deep.csv\", index=False)"
      ],
      "metadata": {
        "id": "qt1v5mnDMyVY"
      },
      "execution_count": null,
      "outputs": []
    },
    {
      "cell_type": "code",
      "source": [
        "!cp /content/engineered_features_tree.csv /content/drive/MyDrive/\n",
        "\n",
        "!cp /content/engineered_features_deep.csv /content/drive/MyDrive/"
      ],
      "metadata": {
        "id": "vJpZuRq_PmLO"
      },
      "execution_count": null,
      "outputs": []
    }
  ]
}